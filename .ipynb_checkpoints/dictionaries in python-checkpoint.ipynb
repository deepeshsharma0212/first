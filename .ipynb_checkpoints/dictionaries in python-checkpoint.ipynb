{
 "cells": [
  {
   "cell_type": "code",
   "execution_count": 20,
   "metadata": {},
   "outputs": [
    {
     "name": "stdout",
     "output_type": "stream",
     "text": [
      "{'apple': 'red', 'mango': 'red', 'pineapple': 'purple'}\n",
      "3\n"
     ]
    }
   ],
   "source": [
    "first_dict = {'apple' : 'red', 'mango' : 'red', 'pineapple' : 'purple',}\n",
    "print(first_dict)\n",
    "print(len(first_dict))"
   ]
  },
  {
   "cell_type": "code",
   "execution_count": 1,
   "metadata": {},
   "outputs": [],
   "source": [
    "basicinfo_dict = {'name' : 'Deepesh', 'sirname' : 'Sharma', 'Highest Education'\n",
    "              : 'B.Tech', 'College' : 'VIT', }"
   ]
  },
  {
   "cell_type": "code",
   "execution_count": 3,
   "metadata": {},
   "outputs": [
    {
     "name": "stdout",
     "output_type": "stream",
     "text": [
      "{'name': 'Deepesh', 'sirname': 'Sharma', 'Highest Education': 'B.Tech', 'College': 'VIT'}\n",
      "{'B.Tech': 70, 'class 12': 78, 'class 10': '84'}\n"
     ]
    }
   ],
   "source": [
    "marksinfo_dict = {'B.Tech' : 70, 'class 12' : 78, 'class 10' : '84'}\n",
    "print(basicinfo_dict)\n",
    "print(marksinfo_dict)"
   ]
  },
  {
   "cell_type": "code",
   "execution_count": 6,
   "metadata": {},
   "outputs": [
    {
     "name": "stdout",
     "output_type": "stream",
     "text": [
      "{'name': 'Deepesh', 'sirname': 'Sharma', 'Highest Education': 'B.Tech', 'College': 'VIT', 'marksinfo_dict': {'B.Tech': 70, 'class 12': 78, 'class 10': '84'}}\n"
     ]
    }
   ],
   "source": [
    "basicinfo_dict['marksinfo_dict'] = marksinfo_dict\n",
    "print(basicinfo_dict)"
   ]
  },
  {
   "cell_type": "code",
   "execution_count": 7,
   "metadata": {},
   "outputs": [
    {
     "name": "stdout",
     "output_type": "stream",
     "text": [
      "{'College': 'VIT',\n",
      " 'Highest Education': 'B.Tech',\n",
      " 'marksinfo_dict': {'B.Tech': 70, 'class 10': '84', 'class 12': 78},\n",
      " 'name': 'Deepesh',\n",
      " 'sirname': 'Sharma'}\n"
     ]
    }
   ],
   "source": [
    "from pprint import pprint\n",
    "pprint(basicinfo_dict)"
   ]
  },
  {
   "cell_type": "code",
   "execution_count": 10,
   "metadata": {},
   "outputs": [
    {
     "name": "stdout",
     "output_type": "stream",
     "text": [
      "{'BOARD': 'CBSE',\n",
      " 'College': 'VIT',\n",
      " 'Highest Education': 'B.Tech',\n",
      " 'School': 'MPS',\n",
      " 'University': 'RTU',\n",
      " 'marksinfo_dict': {'B.Tech': 70, 'class 10': '84', 'class 12': 78},\n",
      " 'name': 'Deepesh',\n",
      " 'sirname': 'Sharma'}\n"
     ]
    }
   ],
   "source": [
    "data =[('University','RTU'), ('School','MPS'), ('BOARD','CBSE')]\n",
    "basicinfo_dict.update(data)\n",
    "from pprint import pprint\n",
    "pprint(basicinfo_dict)"
   ]
  },
  {
   "cell_type": "code",
   "execution_count": 12,
   "metadata": {},
   "outputs": [
    {
     "name": "stdout",
     "output_type": "stream",
     "text": [
      "{'pink city': 'jaipur', 'kalibangan': 'Hanumangarh', 'UNESCO': 'Kalbalia', 'keoladeo national park': 'Bharatpur'}\n"
     ]
    }
   ],
   "source": [
    "rajinfo_dict = {'pink city' : 'jaipur', 'kalibangan' : 'Hanumangarh',\n",
    "               'UNESCO' : 'Kalbalia', 'keoladeo national park' : 'Bharatpur'}\n",
    "print(rajinfo_dict)"
   ]
  },
  {
   "cell_type": "code",
   "execution_count": 13,
   "metadata": {},
   "outputs": [
    {
     "name": "stdout",
     "output_type": "stream",
     "text": [
      "{'ajanta and ellora caves': 'maharashtra',\n",
      " 'amer fort': 'rajasthan',\n",
      " 'fatehpur sikri': 'agra',\n",
      " 'khajuraho temple': 'Madhya pradesh',\n",
      " 'konark temple': 'odhisa',\n",
      " 'mahabalipuram': 'tamil nadu',\n",
      " 'qutub minar': 'delhi',\n",
      " 'sanchi stupa': 'Madhya pradesh',\n",
      " 'taj mahal': 'agra',\n",
      " 'victoria memorial': 'kolkata',\n",
      " 'virupaksha temple': 'karnataka'}\n"
     ]
    }
   ],
   "source": [
    "monumentsinfo_dict = {'taj mahal' : 'agra', 'qutub minar' : 'delhi', 'amer fort'\n",
    "                     : 'rajasthan', 'ajanta and ellora caves' : 'maharashtra',\n",
    "                     'virupaksha temple' : 'karnataka', 'mahabalipuram' :\n",
    "                     'tamil nadu', 'konark temple' : 'odhisa', 'sanchi stupa'\n",
    "                     : 'Madhya pradesh', 'khajuraho temple' : 'Madhya pradesh'\n",
    "                     , 'victoria memorial' : 'kolkata','fatehpur sikri' : 'agra'}\n",
    "from pprint import pprint\n",
    "pprint(monumentsinfo_dict)"
   ]
  },
  {
   "cell_type": "code",
   "execution_count": null,
   "metadata": {},
   "outputs": [],
   "source": [
    "firstcabinet_info = {'prime minister' : 'jawaharlal nehru', 'deputy prime minister'\n",
    "                     : 'sardar vallabh patel', 'home minister' }"
   ]
  }
 ],
 "metadata": {
  "kernelspec": {
   "display_name": "Python 3",
   "language": "python",
   "name": "python3"
  },
  "language_info": {
   "codemirror_mode": {
    "name": "ipython",
    "version": 3
   },
   "file_extension": ".py",
   "mimetype": "text/x-python",
   "name": "python",
   "nbconvert_exporter": "python",
   "pygments_lexer": "ipython3",
   "version": "3.6.5"
  }
 },
 "nbformat": 4,
 "nbformat_minor": 2
}
