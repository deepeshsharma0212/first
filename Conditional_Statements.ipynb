{
 "cells": [
  {
   "cell_type": "code",
   "execution_count": 1,
   "metadata": {},
   "outputs": [
    {
     "name": "stdout",
     "output_type": "stream",
     "text": [
      "X : 43\n",
      "Y : 66\n",
      "Z : 77\n",
      "Z is greatest\n"
     ]
    }
   ],
   "source": [
    "x = int(input(\"X : \"))\n",
    "y = int(input(\"Y : \"))\n",
    "z = int(input(\"Z : \"))\n",
    "if(x >= y) and (x >= z) :\n",
    "    print(\"X is greatest\")\n",
    "elif(y >= x) and (y >= z) :\n",
    "    print(\"Y is greatest\")\n",
    "else :\n",
    "    print(\"Z is greatest\")\n",
    "    "
   ]
  },
  {
   "cell_type": "code",
   "execution_count": null,
   "metadata": {},
   "outputs": [],
   "source": [
    "c =100000;\n",
    "while c >= 1 :\n",
    "    if c % 3 == 0 and c % 5 == 0 and c % 7 == 0 and c % 9 == 0:\n",
    "        print(c)\n",
    "        c = c -1;\n",
    "        "
   ]
  },
  {
   "cell_type": "code",
   "execution_count": 1,
   "metadata": {},
   "outputs": [
    {
     "name": "stdout",
     "output_type": "stream",
     "text": [
      "HELLO WORLD 1\n",
      "HELLO WORLD 2\n",
      "HELLO WORLD 3\n",
      "HELLO WORLD 4\n",
      "HELLO WORLD 5\n",
      "HELLO WORLD 6\n",
      "HELLO WORLD 7\n",
      "HELLO WORLD 8\n",
      "HELLO WORLD 9\n",
      "HELLO WORLD 10\n"
     ]
    }
   ],
   "source": [
    "c = 1\n",
    "while c <= 10 :\n",
    "    print(\"HELLO WORLD {}\".format(c))\n",
    "    c = c + 1\n",
    "        "
   ]
  },
  {
   "cell_type": "code",
   "execution_count": 1,
   "metadata": {},
   "outputs": [
    {
     "name": "stdout",
     "output_type": "stream",
     "text": [
      "*\n",
      "**\n",
      "***\n",
      "****\n",
      "*****\n",
      "******\n",
      "*******\n",
      "********\n",
      "*********\n",
      "**********\n",
      "***********\n"
     ]
    }
   ],
   "source": [
    "row = 0\n",
    "while row <= 10 : \n",
    "    column = 0\n",
    "    while column <= row :\n",
    "        print(\"*\",end='')\n",
    "        column += 1\n",
    "    print()\n",
    "    row += 1"
   ]
  },
  {
   "cell_type": "code",
   "execution_count": 2,
   "metadata": {},
   "outputs": [
    {
     "name": "stdout",
     "output_type": "stream",
     "text": [
      "9765, 9450, 9135, 8820, 8505, 8190, 7875, 7560, 7245, 6930, 6615, 6300, 5985, 5670, 5355, 5040, 4725, 4410, 4095, 3780, 3465, 3150, 2835, 2520, 2205, 1890, 1575, 1260, 945, 630, 315, \n",
      "Total Numbers are =  31\n"
     ]
    }
   ],
   "source": [
    "counter = 10000\n",
    "num_counter = 0\n",
    "while counter >= 1 : \n",
    "    if counter % 5 == 0 and counter % 3 == 0 and counter % 7 == 0 \\\n",
    "    and counter % 9 == 0 :\n",
    "        print(counter,end=', ')\n",
    "        num_counter += 1\n",
    "    counter -= 1\n",
    "\n",
    "print(\"\\nTotal Numbers are = \",num_counter)"
   ]
  },
  {
   "cell_type": "code",
   "execution_count": null,
   "metadata": {},
   "outputs": [],
   "source": [
    "from random import choice\n",
    "from time import sleep\n",
    "n = int(input(\"How many Playes : \"))\n",
    "names = []\n",
    "c = 1\n",
    "while c <= n : \n",
    "    name = input(\"Enter Name of  Player[{}]: \".format(c))\n",
    "    names.append(name)\n",
    "    c = c + 1\n",
    "    \n",
    "print(\"Here is your gang : - \")\n",
    "print(*names)\n",
    "\n",
    "while input(\"Press Any key to Spin the wheel ... \"): \n",
    "    banda = choice(names)\n",
    "    print(\"Finding a bakara ...\")\n",
    "    sleep(3)\n",
    "    print(\"Bari number {} and bakra is = {}\".format(c,banda))"
   ]
  },
  {
   "cell_type": "code",
   "execution_count": null,
   "metadata": {},
   "outputs": [],
   "source": [
    "num = int(input(\"Enter The Number : \")) \n",
    "c = num -1\n",
    "fact = 0\n",
    "while c >= 1 :\n",
    "    fact = fact * c\n",
    "    c -= 1\n",
    "    print(\"fact\")\n",
    "    \n"
   ]
  },
  {
   "cell_type": "code",
   "execution_count": 1,
   "metadata": {},
   "outputs": [
    {
     "name": "stdout",
     "output_type": "stream",
     "text": [
      "Enter a number: s\n"
     ]
    },
    {
     "ename": "ValueError",
     "evalue": "invalid literal for int() with base 10: 's'",
     "output_type": "error",
     "traceback": [
      "\u001b[1;31m---------------------------------------------------------------------------\u001b[0m",
      "\u001b[1;31mValueError\u001b[0m                                Traceback (most recent call last)",
      "\u001b[1;32m<ipython-input-1-c330eb548c86>\u001b[0m in \u001b[0;36m<module>\u001b[1;34m()\u001b[0m\n\u001b[0;32m      1\u001b[0m \u001b[1;31m#fact of a number\u001b[0m\u001b[1;33m\u001b[0m\u001b[1;33m\u001b[0m\u001b[0m\n\u001b[1;32m----> 2\u001b[1;33m \u001b[0mnum\u001b[0m \u001b[1;33m=\u001b[0m \u001b[0mint\u001b[0m\u001b[1;33m(\u001b[0m\u001b[0minput\u001b[0m\u001b[1;33m(\u001b[0m\u001b[1;34m\"Enter a number: \"\u001b[0m\u001b[1;33m)\u001b[0m\u001b[1;33m)\u001b[0m\u001b[1;33m\u001b[0m\u001b[0m\n\u001b[0m\u001b[0;32m      3\u001b[0m \u001b[0mcopy_num\u001b[0m \u001b[1;33m=\u001b[0m \u001b[0mnum\u001b[0m\u001b[1;33m\u001b[0m\u001b[0m\n\u001b[0;32m      4\u001b[0m \u001b[0mfact\u001b[0m \u001b[1;33m=\u001b[0m \u001b[1;36m1\u001b[0m\u001b[1;33m\u001b[0m\u001b[0m\n\u001b[0;32m      5\u001b[0m \u001b[1;32mwhile\u001b[0m \u001b[0mnum\u001b[0m \u001b[1;33m:\u001b[0m\u001b[1;33m\u001b[0m\u001b[0m\n",
      "\u001b[1;31mValueError\u001b[0m: invalid literal for int() with base 10: 's'"
     ]
    }
   ],
   "source": [
    "#fact of a number\n",
    "num = int(input(\"Enter a number: \"))\n",
    "copy_num = num\n",
    "fact = 1\n",
    "while num :\n",
    "    fact = fact * num\n",
    "    num = num -1\n",
    "print(\"Factorial of {} is {}.\".format(copy_num, fact))\n",
    "\n",
    "    "
   ]
  },
  {
   "cell_type": "code",
   "execution_count": 3,
   "metadata": {},
   "outputs": [
    {
     "name": "stdout",
     "output_type": "stream",
     "text": [
      "0xc\n"
     ]
    }
   ],
   "source": [
    "x = hex(12)\n",
    "print(x)"
   ]
  },
  {
   "cell_type": "markdown",
   "metadata": {},
   "source": [
    " one = \"Hello\"\n",
    " print(one)"
   ]
  },
  {
   "cell_type": "code",
   "execution_count": 16,
   "metadata": {},
   "outputs": [
    {
     "name": "stdout",
     "output_type": "stream",
     "text": [
      "Hello World\n",
      "Type of r :  <class 'int'>\n"
     ]
    }
   ],
   "source": [
    "x = \"Hello World\"\n",
    "print(x)\n",
    "print(\"Type of r : \",type(4343))"
   ]
  },
  {
   "cell_type": "code",
   "execution_count": 30,
   "metadata": {},
   "outputs": [
    {
     "name": "stdout",
     "output_type": "stream",
     "text": [
      "<built-in method split of str object at 0x000001E5A5CB9A30>\n"
     ]
    }
   ],
   "source": [
    "s = \"Hello World\"\n",
    "x = s.split\n",
    "print(x)\n"
   ]
  },
  {
   "cell_type": "code",
   "execution_count": 44,
   "metadata": {},
   "outputs": [
    {
     "ename": "AttributeError",
     "evalue": "'builtin_function_or_method' object has no attribute '_doc_'",
     "output_type": "error",
     "traceback": [
      "\u001b[1;31m---------------------------------------------------------------------------\u001b[0m",
      "\u001b[1;31mAttributeError\u001b[0m                            Traceback (most recent call last)",
      "\u001b[1;32m<ipython-input-44-78dfe6b090c1>\u001b[0m in \u001b[0;36m<module>\u001b[1;34m()\u001b[0m\n\u001b[0;32m      1\u001b[0m \u001b[0md\u001b[0m \u001b[1;33m=\u001b[0m \u001b[1;34m\"PYTHON\"\u001b[0m\u001b[1;33m\u001b[0m\u001b[0m\n\u001b[1;32m----> 2\u001b[1;33m \u001b[0mprint\u001b[0m\u001b[1;33m(\u001b[0m\u001b[0md\u001b[0m\u001b[1;33m.\u001b[0m\u001b[0mcapitalize\u001b[0m\u001b[1;33m.\u001b[0m \u001b[0m_doc_\u001b[0m\u001b[1;33m)\u001b[0m\u001b[1;33m\u001b[0m\u001b[0m\n\u001b[0m",
      "\u001b[1;31mAttributeError\u001b[0m: 'builtin_function_or_method' object has no attribute '_doc_'"
     ]
    }
   ],
   "source": [
    "d = \"PYTHON\"\n",
    "print(d.capitalize. _doc_)"
   ]
  },
  {
   "cell_type": "code",
   "execution_count": 46,
   "metadata": {},
   "outputs": [
    {
     "name": "stdout",
     "output_type": "stream",
     "text": [
      "hellohellohello\n"
     ]
    },
    {
     "data": {
      "text/plain": [
       "15"
      ]
     },
     "execution_count": 46,
     "metadata": {},
     "output_type": "execute_result"
    }
   ],
   "source": [
    "x = \"hello\"*3\n",
    "print(x)\n",
    "len(x)"
   ]
  },
  {
   "cell_type": "code",
   "execution_count": null,
   "metadata": {},
   "outputs": [],
   "source": []
  }
 ],
 "metadata": {
  "kernelspec": {
   "display_name": "Python 3",
   "language": "python",
   "name": "python3"
  },
  "language_info": {
   "codemirror_mode": {
    "name": "ipython",
    "version": 3
   },
   "file_extension": ".py",
   "mimetype": "text/x-python",
   "name": "python",
   "nbconvert_exporter": "python",
   "pygments_lexer": "ipython3",
   "version": "3.6.5"
  }
 },
 "nbformat": 4,
 "nbformat_minor": 2
}
